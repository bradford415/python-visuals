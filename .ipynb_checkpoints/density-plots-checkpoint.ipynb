{
 "cells": [
  {
   "cell_type": "markdown",
   "metadata": {},
   "source": [
    "## Density Plots\n",
    "Variations of denisty plots to look at the distribution of a dataset."
   ]
  },
  {
   "cell_type": "code",
   "execution_count": 1,
   "metadata": {},
   "outputs": [],
   "source": [
    "import seaborn as sns\n",
    "import matplotlib.pyplot as plt\n",
    "import pandas as pd\n",
    "import numpy as np\n",
    "from IPython.display import display"
   ]
  },
  {
   "cell_type": "markdown",
   "metadata": {},
   "source": [
    "### Load Matrix"
   ]
  },
  {
   "cell_type": "code",
   "execution_count": 2,
   "metadata": {},
   "outputs": [
    {
     "data": {
      "text/html": [
       "<div>\n",
       "<style scoped>\n",
       "    .dataframe tbody tr th:only-of-type {\n",
       "        vertical-align: middle;\n",
       "    }\n",
       "\n",
       "    .dataframe tbody tr th {\n",
       "        vertical-align: top;\n",
       "    }\n",
       "\n",
       "    .dataframe thead th {\n",
       "        text-align: right;\n",
       "    }\n",
       "</style>\n",
       "<table border=\"1\" class=\"dataframe\">\n",
       "  <thead>\n",
       "    <tr style=\"text-align: right;\">\n",
       "      <th></th>\n",
       "      <th>TCGA.05.5420.01A.01R.1628.07</th>\n",
       "      <th>TCGA.55.7283.01A.11R.2039.07</th>\n",
       "      <th>TCGA.55.8208.01A.11R.2241.07</th>\n",
       "      <th>TCGA.75.6205.01A.11R.1755.07</th>\n",
       "      <th>TCGA.44.8117.01A.11R.2241.07</th>\n",
       "      <th>TCGA.MP.A4TA.01A.21R.A24X.07</th>\n",
       "      <th>TCGA.86.8669.01A.11R.2403.07</th>\n",
       "      <th>TCGA.86.8668.01A.11R.2403.07</th>\n",
       "      <th>TCGA.44.A4SS.01A.11R.A24X.07</th>\n",
       "      <th>TCGA.55.7227.01A.11R.2039.07</th>\n",
       "      <th>...</th>\n",
       "      <th>GTEX.11ZTS.1226.SM.5EQMQ</th>\n",
       "      <th>GTEX.12WSL.1026.SM.5CVNJ</th>\n",
       "      <th>GTEX.14A6H.0526.SM.5NQAZ</th>\n",
       "      <th>GTEX.QMRM.0826.SM.3NB33</th>\n",
       "      <th>GTEX.QEG5.1126.SM.33HC2</th>\n",
       "      <th>GTEX.144GO.0226.SM.5LUB1</th>\n",
       "      <th>GTEX.OHPM.0526.SM.2YUMJ</th>\n",
       "      <th>GTEX.13OVG.0326.SM.5KM57</th>\n",
       "      <th>GTEX.WYVS.0526.SM.3NM9W</th>\n",
       "      <th>GTEX.131XH.0426.SM.5DUWU</th>\n",
       "    </tr>\n",
       "  </thead>\n",
       "  <tbody>\n",
       "    <tr>\n",
       "      <td>HIST3H2A</td>\n",
       "      <td>9.809754</td>\n",
       "      <td>2.954724</td>\n",
       "      <td>4.873680</td>\n",
       "      <td>6.735488</td>\n",
       "      <td>4.229448</td>\n",
       "      <td>9.403950</td>\n",
       "      <td>9.239499</td>\n",
       "      <td>5.377771</td>\n",
       "      <td>6.620636</td>\n",
       "      <td>7.551631</td>\n",
       "      <td>...</td>\n",
       "      <td>7.013502</td>\n",
       "      <td>6.579360</td>\n",
       "      <td>2.779043</td>\n",
       "      <td>4.290058</td>\n",
       "      <td>5.065629</td>\n",
       "      <td>8.610875</td>\n",
       "      <td>2.823402</td>\n",
       "      <td>4.035995</td>\n",
       "      <td>6.363210</td>\n",
       "      <td>7.138397</td>\n",
       "    </tr>\n",
       "    <tr>\n",
       "      <td>LIN7B</td>\n",
       "      <td>8.894070</td>\n",
       "      <td>5.997310</td>\n",
       "      <td>7.588527</td>\n",
       "      <td>6.751384</td>\n",
       "      <td>7.404094</td>\n",
       "      <td>7.052481</td>\n",
       "      <td>7.639914</td>\n",
       "      <td>6.960350</td>\n",
       "      <td>6.849096</td>\n",
       "      <td>6.815561</td>\n",
       "      <td>...</td>\n",
       "      <td>6.652898</td>\n",
       "      <td>7.326125</td>\n",
       "      <td>7.813368</td>\n",
       "      <td>6.736590</td>\n",
       "      <td>6.400787</td>\n",
       "      <td>6.470978</td>\n",
       "      <td>4.611742</td>\n",
       "      <td>7.042791</td>\n",
       "      <td>6.534886</td>\n",
       "      <td>6.620885</td>\n",
       "    </tr>\n",
       "    <tr>\n",
       "      <td>LXN</td>\n",
       "      <td>10.185433</td>\n",
       "      <td>8.375249</td>\n",
       "      <td>10.545116</td>\n",
       "      <td>8.989366</td>\n",
       "      <td>8.228698</td>\n",
       "      <td>8.979396</td>\n",
       "      <td>7.876990</td>\n",
       "      <td>8.551951</td>\n",
       "      <td>9.859755</td>\n",
       "      <td>9.352365</td>\n",
       "      <td>...</td>\n",
       "      <td>8.973689</td>\n",
       "      <td>10.075573</td>\n",
       "      <td>10.725301</td>\n",
       "      <td>8.983359</td>\n",
       "      <td>9.354334</td>\n",
       "      <td>9.349722</td>\n",
       "      <td>8.064545</td>\n",
       "      <td>8.594468</td>\n",
       "      <td>11.275207</td>\n",
       "      <td>8.937756</td>\n",
       "    </tr>\n",
       "    <tr>\n",
       "      <td>CNKSR2</td>\n",
       "      <td>0.975818</td>\n",
       "      <td>3.202099</td>\n",
       "      <td>2.356563</td>\n",
       "      <td>2.522910</td>\n",
       "      <td>1.247788</td>\n",
       "      <td>1.214410</td>\n",
       "      <td>3.730376</td>\n",
       "      <td>3.636132</td>\n",
       "      <td>2.301068</td>\n",
       "      <td>3.736715</td>\n",
       "      <td>...</td>\n",
       "      <td>6.138962</td>\n",
       "      <td>3.906332</td>\n",
       "      <td>3.635977</td>\n",
       "      <td>6.441998</td>\n",
       "      <td>5.255572</td>\n",
       "      <td>5.474813</td>\n",
       "      <td>5.667572</td>\n",
       "      <td>6.736665</td>\n",
       "      <td>3.185818</td>\n",
       "      <td>5.077322</td>\n",
       "    </tr>\n",
       "    <tr>\n",
       "      <td>SCML1</td>\n",
       "      <td>8.783611</td>\n",
       "      <td>5.817718</td>\n",
       "      <td>7.499751</td>\n",
       "      <td>6.001749</td>\n",
       "      <td>5.588392</td>\n",
       "      <td>5.498967</td>\n",
       "      <td>7.123027</td>\n",
       "      <td>6.673380</td>\n",
       "      <td>7.082229</td>\n",
       "      <td>7.308943</td>\n",
       "      <td>...</td>\n",
       "      <td>8.277807</td>\n",
       "      <td>6.534039</td>\n",
       "      <td>7.056894</td>\n",
       "      <td>6.836865</td>\n",
       "      <td>8.559605</td>\n",
       "      <td>8.933818</td>\n",
       "      <td>6.236766</td>\n",
       "      <td>7.974580</td>\n",
       "      <td>6.333311</td>\n",
       "      <td>8.398369</td>\n",
       "    </tr>\n",
       "  </tbody>\n",
       "</table>\n",
       "<p>5 rows × 1415 columns</p>\n",
       "</div>"
      ],
      "text/plain": [
       "          TCGA.05.5420.01A.01R.1628.07  TCGA.55.7283.01A.11R.2039.07  \\\n",
       "HIST3H2A                      9.809754                      2.954724   \n",
       "LIN7B                         8.894070                      5.997310   \n",
       "LXN                          10.185433                      8.375249   \n",
       "CNKSR2                        0.975818                      3.202099   \n",
       "SCML1                         8.783611                      5.817718   \n",
       "\n",
       "          TCGA.55.8208.01A.11R.2241.07  TCGA.75.6205.01A.11R.1755.07  \\\n",
       "HIST3H2A                      4.873680                      6.735488   \n",
       "LIN7B                         7.588527                      6.751384   \n",
       "LXN                          10.545116                      8.989366   \n",
       "CNKSR2                        2.356563                      2.522910   \n",
       "SCML1                         7.499751                      6.001749   \n",
       "\n",
       "          TCGA.44.8117.01A.11R.2241.07  TCGA.MP.A4TA.01A.21R.A24X.07  \\\n",
       "HIST3H2A                      4.229448                      9.403950   \n",
       "LIN7B                         7.404094                      7.052481   \n",
       "LXN                           8.228698                      8.979396   \n",
       "CNKSR2                        1.247788                      1.214410   \n",
       "SCML1                         5.588392                      5.498967   \n",
       "\n",
       "          TCGA.86.8669.01A.11R.2403.07  TCGA.86.8668.01A.11R.2403.07  \\\n",
       "HIST3H2A                      9.239499                      5.377771   \n",
       "LIN7B                         7.639914                      6.960350   \n",
       "LXN                           7.876990                      8.551951   \n",
       "CNKSR2                        3.730376                      3.636132   \n",
       "SCML1                         7.123027                      6.673380   \n",
       "\n",
       "          TCGA.44.A4SS.01A.11R.A24X.07  TCGA.55.7227.01A.11R.2039.07  ...  \\\n",
       "HIST3H2A                      6.620636                      7.551631  ...   \n",
       "LIN7B                         6.849096                      6.815561  ...   \n",
       "LXN                           9.859755                      9.352365  ...   \n",
       "CNKSR2                        2.301068                      3.736715  ...   \n",
       "SCML1                         7.082229                      7.308943  ...   \n",
       "\n",
       "          GTEX.11ZTS.1226.SM.5EQMQ  GTEX.12WSL.1026.SM.5CVNJ  \\\n",
       "HIST3H2A                  7.013502                  6.579360   \n",
       "LIN7B                     6.652898                  7.326125   \n",
       "LXN                       8.973689                 10.075573   \n",
       "CNKSR2                    6.138962                  3.906332   \n",
       "SCML1                     8.277807                  6.534039   \n",
       "\n",
       "          GTEX.14A6H.0526.SM.5NQAZ  GTEX.QMRM.0826.SM.3NB33  \\\n",
       "HIST3H2A                  2.779043                 4.290058   \n",
       "LIN7B                     7.813368                 6.736590   \n",
       "LXN                      10.725301                 8.983359   \n",
       "CNKSR2                    3.635977                 6.441998   \n",
       "SCML1                     7.056894                 6.836865   \n",
       "\n",
       "          GTEX.QEG5.1126.SM.33HC2  GTEX.144GO.0226.SM.5LUB1  \\\n",
       "HIST3H2A                 5.065629                  8.610875   \n",
       "LIN7B                    6.400787                  6.470978   \n",
       "LXN                      9.354334                  9.349722   \n",
       "CNKSR2                   5.255572                  5.474813   \n",
       "SCML1                    8.559605                  8.933818   \n",
       "\n",
       "          GTEX.OHPM.0526.SM.2YUMJ  GTEX.13OVG.0326.SM.5KM57  \\\n",
       "HIST3H2A                 2.823402                  4.035995   \n",
       "LIN7B                    4.611742                  7.042791   \n",
       "LXN                      8.064545                  8.594468   \n",
       "CNKSR2                   5.667572                  6.736665   \n",
       "SCML1                    6.236766                  7.974580   \n",
       "\n",
       "          GTEX.WYVS.0526.SM.3NM9W  GTEX.131XH.0426.SM.5DUWU  \n",
       "HIST3H2A                 6.363210                  7.138397  \n",
       "LIN7B                    6.534886                  6.620885  \n",
       "LXN                     11.275207                  8.937756  \n",
       "CNKSR2                   3.185818                  5.077322  \n",
       "SCML1                    6.333311                  8.398369  \n",
       "\n",
       "[5 rows x 1415 columns]"
      ]
     },
     "metadata": {},
     "output_type": "display_data"
    }
   ],
   "source": [
    "#matrix = pd.read_csv(\"datasets/lung_modified.txt\", sep='\\t') #used for text file\n",
    "matrix = pd.read_csv(\"datasets/lung_modified.csv\", index_col=0)\n",
    "display(matrix.head())"
   ]
  },
  {
   "cell_type": "markdown",
   "metadata": {},
   "source": [
    "### Density Plot (KDE) - All Samples\n",
    "Seaborn density plot can't handle missing data for histograms but the KDE plot sort of can (supresses a warning).\n",
    "\n",
    "This data has already been log transformed and quantile normalized so the distribution looks very equal."
   ]
  },
  {
   "cell_type": "code",
   "execution_count": 3,
   "metadata": {},
   "outputs": [
    {
     "name": "stderr",
     "output_type": "stream",
     "text": [
      "/home/bselee/.conda/envs/myenv/lib/python3.6/site-packages/statsmodels/nonparametric/kde.py:447: RuntimeWarning: invalid value encountered in greater\n",
      "  X = X[np.logical_and(X > clip[0], X < clip[1])] # won't work for two columns.\n",
      "/home/bselee/.conda/envs/myenv/lib/python3.6/site-packages/statsmodels/nonparametric/kde.py:447: RuntimeWarning: invalid value encountered in less\n",
      "  X = X[np.logical_and(X > clip[0], X < clip[1])] # won't work for two columns.\n"
     ]
    },
    {
     "name": "stdout",
     "output_type": "stream",
     "text": [
      "plotting 1415 samples\n"
     ]
    },
    {
     "data": {
      "image/png": "[encoded data removed]",
      "text/plain": [
       "<Figure size 360x360 with 1 Axes>"
      ]
     },
     "metadata": {
      "needs_background": "light"
     },
     "output_type": "display_data"
    }
   ],
   "source": [
    "_, ax = plt.subplots(figsize=(5, 5))\n",
    "\n",
    "i = 0\n",
    "for column in matrix:\n",
    "    i = i + 1\n",
    "    sns.distplot(matrix[column], hist = False, ax=ax)\n",
    "    \n",
    "plt.title(\"Sample Distributions\")\n",
    "plt.xlabel(\"Expression Level\")\n",
    "plt.ylabel(\"Density\")\n",
    "#plt.show()\n",
    "print(\"plotting %d samples\"% (i))"
   ]
  },
  {
   "cell_type": "markdown",
   "metadata": {},
   "source": [
    "### Density Plot - One Sample"
   ]
  },
  {
   "cell_type": "code",
   "execution_count": 4,
   "metadata": {},
   "outputs": [
    {
     "data": {
      "text/plain": [
       "<matplotlib.axes._subplots.AxesSubplot at 0x15065621f4e0>"
      ]
     },
     "execution_count": 4,
     "metadata": {},
     "output_type": "execute_result"
    },
    {
     "data": {
      "image/png": "[encoded data removed]",
      "text/plain": [
       "<Figure size 432x288 with 1 Axes>"
      ]
     },
     "metadata": {
      "needs_background": "light"
     },
     "output_type": "display_data"
    }
   ],
   "source": [
    "column_name = \"TCGA.05.5420.01A.01R.1628.07\" # Sample name \n",
    "sns.distplot(matrix[column_name], hist = False)"
   ]
  },
  {
   "cell_type": "markdown",
   "metadata": {},
   "source": [
    "### Density Plot (Histogram) - One sample\n",
    "Seaborn's hisogram can't handle missing data so this needs to be removed or replaced. The downside is that the dropna() function will drop an entire row even if one cell has a missing value. Alternatively, you could replace the missing data with a value (I left this commented out).\n",
    "\n",
    "Viewing one sample at a time is ideal because the histogram bars would get in the way of each, and it just takes a lot longer to plot. Setting kde=False removes the line and also shows the actual density count on the y-axis rather than a percentage.  "
   ]
  },
  {
   "cell_type": "code",
   "execution_count": 5,
   "metadata": {},
   "outputs": [
    {
     "data": {
      "text/plain": [
       "<matplotlib.axes._subplots.AxesSubplot at 0x15065636b8d0>"
      ]
     },
     "execution_count": 5,
     "metadata": {},
     "output_type": "execute_result"
    },
    {
     "data": {
      "image/png": "[encoded data removed]",
      "text/plain": [
       "<Figure size 432x288 with 1 Axes>"
      ]
     },
     "metadata": {
      "needs_background": "light"
     },
     "output_type": "display_data"
    }
   ],
   "source": [
    "matrix_replacedNaN = matrix.dropna() # Drops all NaN's from entire dataset\n",
    "#matrix_replacedNaN = matrix.fillna(0) # Replaces NaN's with 0's\n",
    "column_name = \"TCGA.05.5420.01A.01R.1628.07\"\n",
    "sns.distplot(matrix_replacedNaN[column_name], hist = True, kde=False)"
   ]
  },
  {
   "cell_type": "markdown",
   "metadata": {},
   "source": [
    "You can specify the number of bins with the bin parameter, below shows an example with 10 bins. If not specified then Seaborn with choose the number of bins."
   ]
  },
  {
   "cell_type": "code",
   "execution_count": 6,
   "metadata": {},
   "outputs": [
    {
     "data": {
      "text/plain": [
       "<matplotlib.axes._subplots.AxesSubplot at 0x1506563997b8>"
      ]
     },
     "execution_count": 6,
     "metadata": {},
     "output_type": "execute_result"
    },
    {
     "data": {
      "image/png": "[encoded data removed]",
      "text/plain": [
       "<Figure size 432x288 with 1 Axes>"
      ]
     },
     "metadata": {
      "needs_background": "light"
     },
     "output_type": "display_data"
    }
   ],
   "source": [
    "column_name = \"TCGA.05.5420.01A.01R.1628.07\"\n",
    "sns.distplot(matrix_replacedNaN[column_name], hist = True, kde=False, bins=10)"
   ]
  },
  {
   "cell_type": "code",
   "execution_count": 7,
   "metadata": {},
   "outputs": [],
   "source": [
    "for column in matrix:\n",
    "    sns.distplot(matrix_replacedNaN[column], hist = True, ax=ax)"
   ]
  }
 ],
 "metadata": {
  "kernelspec": {
   "display_name": "Python 3 (myenv)",
   "language": "python",
   "name": "myenv"
  },
  "language_info": {
   "codemirror_mode": {
    "name": "ipython",
    "version": 3
   },
   "file_extension": ".py",
   "mimetype": "text/x-python",
   "name": "python",
   "nbconvert_exporter": "python",
   "pygments_lexer": "ipython3",
   "version": "3.6.9"
  }
 },
 "nbformat": 4,
 "nbformat_minor": 4
}
